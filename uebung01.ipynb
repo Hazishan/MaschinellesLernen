{
 "cells": [
  {
   "cell_type": "code",
   "execution_count": 2,
   "outputs": [],
   "source": [
    "import numpy as np\n",
    "from matplotlib import pyplot as plt"
   ],
   "metadata": {
    "collapsed": false,
    "pycharm": {
     "name": "#%%\n"
    }
   }
  },
  {
   "cell_type": "code",
   "execution_count": 33,
   "outputs": [],
   "source": [
    "### 2d Datensatz, 100 Punkte\n",
    "\n",
    "n_points = 100\n",
    "n_dims = 2\n",
    "\n",
    "\n",
    "x_pos_mat = np.random.rand(n_points,n_dims)"
   ],
   "metadata": {
    "collapsed": false,
    "pycharm": {
     "name": "#%%\n"
    }
   }
  },
  {
   "cell_type": "code",
   "execution_count": 47,
   "outputs": [
    {
     "data": {
      "text/plain": "(100, 2)"
     },
     "execution_count": 47,
     "metadata": {},
     "output_type": "execute_result"
    }
   ],
   "source": [
    "x_pos_mat.shape"
   ],
   "metadata": {
    "collapsed": false,
    "pycharm": {
     "name": "#%%\n"
    }
   }
  },
  {
   "cell_type": "code",
   "execution_count": 48,
   "outputs": [],
   "source": [
    "x_neg_mat = np.random.rand(n_points,2)\n",
    "\n",
    "\n",
    "## shift\n",
    "v = (0.9,0.9)\n",
    "## ist shift ins positive oder negative unterschiedlich ist?\n",
    "x_neg_mat-=v"
   ],
   "metadata": {
    "collapsed": false,
    "pycharm": {
     "name": "#%%\n"
    }
   }
  },
  {
   "cell_type": "code",
   "execution_count": 49,
   "outputs": [],
   "source": [],
   "metadata": {
    "collapsed": false,
    "pycharm": {
     "name": "#%%\n"
    }
   }
  },
  {
   "cell_type": "code",
   "execution_count": 50,
   "outputs": [
    {
     "data": {
      "text/plain": "-0.4147947951966728"
     },
     "execution_count": 50,
     "metadata": {},
     "output_type": "execute_result"
    }
   ],
   "source": [
    "x_neg_mat.mean()"
   ],
   "metadata": {
    "collapsed": false,
    "pycharm": {
     "name": "#%%\n"
    }
   }
  },
  {
   "cell_type": "code",
   "execution_count": 51,
   "outputs": [
    {
     "data": {
      "text/plain": "0.5080286086045024"
     },
     "execution_count": 51,
     "metadata": {},
     "output_type": "execute_result"
    }
   ],
   "source": [
    "x_pos_mat.mean()"
   ],
   "metadata": {
    "collapsed": false,
    "pycharm": {
     "name": "#%%\n"
    }
   }
  },
  {
   "cell_type": "code",
   "execution_count": 54,
   "outputs": [
    {
     "data": {
      "text/plain": "<Figure size 640x480 with 1 Axes>",
      "image/png": "[encoded data removed]"
     },
     "metadata": {},
     "output_type": "display_data"
    }
   ],
   "source": [
    "dic = {\"x_pos\":x_pos_mat.flat, \"x_neg\":x_neg_mat.flat}\n",
    "fig, ax = plt.subplots()\n",
    "\n",
    "ax.boxplot(dic.values())\n",
    "ax.set_xticklabels(dic.keys())\n",
    "\n",
    "plt.show()"
   ],
   "metadata": {
    "collapsed": false,
    "pycharm": {
     "name": "#%%\n"
    }
   }
  },
  {
   "cell_type": "markdown",
   "source": [
    "Byes Risiko\n",
    "\n",
    "LIT\n",
    "\"Das Bayes-Risiko ist ein Begriff aus der mathematischen Statistik und eine Verallgemeinerung einer Risikofunktion. Anschaulich liefert das Bayes-Risiko den potentiellen Schaden bei Verwendung eines Entscheidungsverfahrens, wenn man bereits über gewisse Vorinformationen bezüglich der Ausgangssituation verfügt. Das Bayes-Risiko wird beispielsweise zur Definition von Bayes-Entscheidungsfunktionen verwendet.\"\n",
    "\n",
    "--> potentielles schaden bei verwendung von entscheidungsverfahren (klassifikationsverfahren?)\n",
    "\n",
    "\n",
    "\n",
    "\n"
   ],
   "metadata": {
    "collapsed": false,
    "pycharm": {
     "name": "#%% md\n"
    }
   }
  },
  {
   "cell_type": "code",
   "execution_count": 40,
   "outputs": [
    {
     "data": {
      "text/plain": "array([[0.34943931, 0.14991094],\n       [0.28871424, 0.67734358],\n       [0.86471773, 0.25368453],\n       [0.8361049 , 0.46408492],\n       [0.86764331, 0.2907878 ],\n       [0.42854433, 0.83721379],\n       [0.24402823, 0.55175544],\n       [0.20479183, 0.66331875],\n       [0.5780392 , 0.17838483],\n       [0.98681396, 0.47349695],\n       [0.70001433, 0.61733298],\n       [0.73739365, 0.11186722],\n       [0.66032107, 0.311746  ],\n       [0.16919734, 0.71377527],\n       [0.39800449, 0.91526945],\n       [0.82352475, 0.02270912],\n       [0.82459236, 0.53069508],\n       [0.47884884, 0.07062528],\n       [0.58596323, 0.09923887],\n       [0.49635821, 0.08191094],\n       [0.85543015, 0.89858691],\n       [0.56450316, 0.08532144],\n       [0.12422903, 0.75117754],\n       [0.81120088, 0.47181148],\n       [0.1707095 , 0.55511515],\n       [0.773909  , 0.04879008],\n       [0.08337849, 0.30730464],\n       [0.70242108, 0.79738933],\n       [0.73435187, 0.58884574],\n       [0.15552481, 0.32007508],\n       [0.30123958, 0.8789801 ],\n       [0.80858548, 0.93319352],\n       [0.46095221, 0.52588273],\n       [0.65683927, 0.84889877],\n       [0.15528741, 0.71643723],\n       [0.10508568, 0.85616873],\n       [0.43661129, 0.31582914],\n       [0.06164678, 0.91294418],\n       [0.09405478, 0.84348659],\n       [0.65235221, 0.00181921],\n       [0.06845334, 0.62894629],\n       [0.77337639, 0.06731288],\n       [0.28613505, 0.46803533],\n       [0.63902867, 0.88917134],\n       [0.52629265, 0.56415292],\n       [0.6034254 , 0.57740916],\n       [0.8668681 , 0.13383393],\n       [0.2292342 , 0.51187186],\n       [0.85785312, 0.48587809],\n       [0.03638636, 0.5243359 ],\n       [0.98311732, 0.87969983],\n       [0.54828938, 0.33474227],\n       [0.78983892, 0.35775084],\n       [0.79607925, 0.24156438],\n       [0.66829784, 0.85090931],\n       [0.99461234, 0.691131  ],\n       [0.85029051, 0.05160968],\n       [0.67927806, 0.81705192],\n       [0.46618424, 0.66062685],\n       [0.28447462, 0.31788966],\n       [0.75685294, 0.812529  ],\n       [0.91251537, 0.04935249],\n       [0.01428604, 0.62115363],\n       [0.87069702, 0.89335155],\n       [0.82302878, 0.0577925 ],\n       [0.70398431, 0.84981943],\n       [0.17473455, 0.1455765 ],\n       [0.55842109, 0.76801319],\n       [0.8621356 , 0.84916675],\n       [0.19034365, 0.28389616],\n       [0.13505075, 0.70941232],\n       [0.77971054, 0.0494377 ],\n       [0.00665637, 0.28738611],\n       [0.27361442, 0.6581204 ],\n       [0.7987835 , 0.85221682],\n       [0.28705063, 0.32993118],\n       [0.31472135, 0.5932891 ],\n       [0.25945391, 0.59354871],\n       [0.21752813, 0.54610952],\n       [0.27730128, 0.64239036],\n       [0.973148  , 0.88966994],\n       [0.8257618 , 0.69329079],\n       [0.44515217, 0.13917371],\n       [0.40108241, 0.23378579],\n       [0.81099204, 0.43066471],\n       [0.12100374, 0.51303458],\n       [0.6007738 , 0.70300104],\n       [0.14803535, 0.45111292],\n       [0.26675863, 0.71965807],\n       [0.73148795, 0.57053626],\n       [0.90868367, 0.51034177],\n       [0.30925415, 0.49467425],\n       [0.68199252, 0.2974908 ],\n       [0.58555202, 0.12195416],\n       [0.66955731, 0.20757115],\n       [0.35421476, 0.12846375],\n       [0.81102948, 0.30751172],\n       [0.55425566, 0.45979505],\n       [0.67546229, 0.59082024],\n       [0.14960572, 0.40398746]])"
     },
     "execution_count": 40,
     "metadata": {},
     "output_type": "execute_result"
    }
   ],
   "source": [],
   "metadata": {
    "collapsed": false,
    "pycharm": {
     "name": "#%%\n"
    }
   }
  },
  {
   "cell_type": "code",
   "execution_count": null,
   "outputs": [],
   "source": [],
   "metadata": {
    "collapsed": false,
    "pycharm": {
     "name": "#%%\n"
    }
   }
  }
 ],
 "metadata": {
  "kernelspec": {
   "display_name": "Python 3",
   "language": "python",
   "name": "python3"
  },
  "language_info": {
   "codemirror_mode": {
    "name": "ipython",
    "version": 2
   },
   "file_extension": ".py",
   "mimetype": "text/x-python",
   "name": "python",
   "nbconvert_exporter": "python",
   "pygments_lexer": "ipython2",
   "version": "2.7.6"
  }
 },
 "nbformat": 4,
 "nbformat_minor": 0
}